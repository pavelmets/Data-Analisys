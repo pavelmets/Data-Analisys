{
 "cells": [
  {
   "cell_type": "code",
   "execution_count": 1,
   "id": "sound-dispatch",
   "metadata": {},
   "outputs": [],
   "source": [
    "import pandas as pd\n",
    "import numpy as np\n",
    "\n",
    "#загрузка датасета из файла 'restaurants.csv'\n",
    "df = pd.read_csv('data/restaurants.csv', sep=',')"
   ]
  },
  {
   "cell_type": "markdown",
   "id": "elegant-arrest",
   "metadata": {},
   "source": [
    "###### Вывести первые 10 строк датафрейма. Изучить структуру таблицы.\n",
    "Таблица состоит из 7 колонок: \n",
    "- vendor_id (уникальный идентификатор ресторана), \n",
    "- chain_id (уникальный идентификатор сети, в которую входит ресторан), \n",
    "- city_name (город), \n",
    "- specialisation(специализация ресторана), \n",
    "- successful_orders(кол-во успешных заказов), \n",
    "- fail_orders(кол-во не успешных заказов), \n",
    "- reorders (перезаказы)."
   ]
  },
  {
   "cell_type": "code",
   "execution_count": 2,
   "id": "sudden-browse",
   "metadata": {},
   "outputs": [
    {
     "data": {
      "text/html": [
       "<div>\n",
       "<style scoped>\n",
       "    .dataframe tbody tr th:only-of-type {\n",
       "        vertical-align: middle;\n",
       "    }\n",
       "\n",
       "    .dataframe tbody tr th {\n",
       "        vertical-align: top;\n",
       "    }\n",
       "\n",
       "    .dataframe thead th {\n",
       "        text-align: right;\n",
       "    }\n",
       "</style>\n",
       "<table border=\"1\" class=\"dataframe\">\n",
       "  <thead>\n",
       "    <tr style=\"text-align: right;\">\n",
       "      <th></th>\n",
       "      <th>vendor_id</th>\n",
       "      <th>chain_id</th>\n",
       "      <th>city_name</th>\n",
       "      <th>specialisation</th>\n",
       "      <th>successful_orders</th>\n",
       "      <th>fail_orders</th>\n",
       "      <th>reorders</th>\n",
       "    </tr>\n",
       "  </thead>\n",
       "  <tbody>\n",
       "    <tr>\n",
       "      <th>0</th>\n",
       "      <td>28957</td>\n",
       "      <td>20633</td>\n",
       "      <td>Архангельск</td>\n",
       "      <td>Супы</td>\n",
       "      <td>0.0</td>\n",
       "      <td>2.0</td>\n",
       "      <td>0.0</td>\n",
       "    </tr>\n",
       "    <tr>\n",
       "      <th>1</th>\n",
       "      <td>37381</td>\n",
       "      <td>27399</td>\n",
       "      <td>Архангельск</td>\n",
       "      <td>Пироги</td>\n",
       "      <td>0.0</td>\n",
       "      <td>0.0</td>\n",
       "      <td>0.0</td>\n",
       "    </tr>\n",
       "    <tr>\n",
       "      <th>2</th>\n",
       "      <td>28703</td>\n",
       "      <td>20431</td>\n",
       "      <td>Архангельск</td>\n",
       "      <td>Суши</td>\n",
       "      <td>111.0</td>\n",
       "      <td>3.0</td>\n",
       "      <td>0.0</td>\n",
       "    </tr>\n",
       "    <tr>\n",
       "      <th>3</th>\n",
       "      <td>37382</td>\n",
       "      <td>27399</td>\n",
       "      <td>Архангельск</td>\n",
       "      <td>Пироги</td>\n",
       "      <td>1.0</td>\n",
       "      <td>0.0</td>\n",
       "      <td>0.0</td>\n",
       "    </tr>\n",
       "    <tr>\n",
       "      <th>4</th>\n",
       "      <td>36877</td>\n",
       "      <td>27151</td>\n",
       "      <td>Архангельск</td>\n",
       "      <td>Бургеры</td>\n",
       "      <td>22.0</td>\n",
       "      <td>2.0</td>\n",
       "      <td>0.0</td>\n",
       "    </tr>\n",
       "    <tr>\n",
       "      <th>5</th>\n",
       "      <td>37650</td>\n",
       "      <td>27579</td>\n",
       "      <td>Архангельск</td>\n",
       "      <td>Суши</td>\n",
       "      <td>3.0</td>\n",
       "      <td>0.0</td>\n",
       "      <td>0.0</td>\n",
       "    </tr>\n",
       "    <tr>\n",
       "      <th>6</th>\n",
       "      <td>37127</td>\n",
       "      <td>27250</td>\n",
       "      <td>Астрахань</td>\n",
       "      <td>Суши</td>\n",
       "      <td>55.0</td>\n",
       "      <td>5.0</td>\n",
       "      <td>6.0</td>\n",
       "    </tr>\n",
       "    <tr>\n",
       "      <th>7</th>\n",
       "      <td>28476</td>\n",
       "      <td>20266</td>\n",
       "      <td>Астрахань</td>\n",
       "      <td>Суши</td>\n",
       "      <td>342.0</td>\n",
       "      <td>13.0</td>\n",
       "      <td>14.0</td>\n",
       "    </tr>\n",
       "    <tr>\n",
       "      <th>8</th>\n",
       "      <td>28478</td>\n",
       "      <td>20266</td>\n",
       "      <td>Астрахань</td>\n",
       "      <td>Суши</td>\n",
       "      <td>194.0</td>\n",
       "      <td>1.0</td>\n",
       "      <td>7.0</td>\n",
       "    </tr>\n",
       "    <tr>\n",
       "      <th>9</th>\n",
       "      <td>34127</td>\n",
       "      <td>25077</td>\n",
       "      <td>Астрахань</td>\n",
       "      <td>Пицца</td>\n",
       "      <td>136.0</td>\n",
       "      <td>4.0</td>\n",
       "      <td>1.0</td>\n",
       "    </tr>\n",
       "  </tbody>\n",
       "</table>\n",
       "</div>"
      ],
      "text/plain": [
       "   vendor_id  chain_id    city_name specialisation  successful_orders  \\\n",
       "0      28957     20633  Архангельск           Супы                0.0   \n",
       "1      37381     27399  Архангельск         Пироги                0.0   \n",
       "2      28703     20431  Архангельск           Суши              111.0   \n",
       "3      37382     27399  Архангельск         Пироги                1.0   \n",
       "4      36877     27151  Архангельск        Бургеры               22.0   \n",
       "5      37650     27579  Архангельск           Суши                3.0   \n",
       "6      37127     27250    Астрахань           Суши               55.0   \n",
       "7      28476     20266    Астрахань           Суши              342.0   \n",
       "8      28478     20266    Астрахань           Суши              194.0   \n",
       "9      34127     25077    Астрахань          Пицца              136.0   \n",
       "\n",
       "   fail_orders  reorders  \n",
       "0          2.0       0.0  \n",
       "1          0.0       0.0  \n",
       "2          3.0       0.0  \n",
       "3          0.0       0.0  \n",
       "4          2.0       0.0  \n",
       "5          0.0       0.0  \n",
       "6          5.0       6.0  \n",
       "7         13.0      14.0  \n",
       "8          1.0       7.0  \n",
       "9          4.0       1.0  "
      ]
     },
     "execution_count": 2,
     "metadata": {},
     "output_type": "execute_result"
    }
   ],
   "source": [
    "#вывод первый 10-ти строк датафрейма\n",
    "df.head(10)"
   ]
  },
  {
   "cell_type": "markdown",
   "id": "proof-circumstances",
   "metadata": {},
   "source": [
    "###### Сколько в датафрейме колонок с типом float64?\n",
    "###### Сколько наблюдений в датафрейме?\n",
    "###### Сколько колонок в датафрейме?"
   ]
  },
  {
   "cell_type": "code",
   "execution_count": 3,
   "id": "different-monkey",
   "metadata": {},
   "outputs": [
    {
     "name": "stdout",
     "output_type": "stream",
     "text": [
      "<class 'pandas.core.frame.DataFrame'>\n",
      "RangeIndex: 784 entries, 0 to 783\n",
      "Data columns (total 7 columns):\n",
      " #   Column             Non-Null Count  Dtype  \n",
      "---  ------             --------------  -----  \n",
      " 0   vendor_id          784 non-null    int64  \n",
      " 1   chain_id           784 non-null    int64  \n",
      " 2   city_name          784 non-null    object \n",
      " 3   specialisation     784 non-null    object \n",
      " 4   successful_orders  784 non-null    float64\n",
      " 5   fail_orders        784 non-null    float64\n",
      " 6   reorders           784 non-null    float64\n",
      "dtypes: float64(3), int64(2), object(2)\n",
      "memory usage: 43.0+ KB\n"
     ]
    }
   ],
   "source": [
    "#вывод полной информации о структуре данных\n",
    "df.info()\n",
    "#другой вариант (выбор колонок с определенным типом)- df.select_dtypes(include = 'float64').shape[1]\n",
    "#метод df.shape возвращает кортеж, в котором первое число - количество строк, второе число - количество столбцов"
   ]
  },
  {
   "cell_type": "markdown",
   "id": "continuing-quebec",
   "metadata": {},
   "source": [
    "###### Сколько уникальных городов в датафрейме?"
   ]
  },
  {
   "cell_type": "code",
   "execution_count": 4,
   "id": "unexpected-village",
   "metadata": {},
   "outputs": [
    {
     "name": "stdout",
     "output_type": "stream",
     "text": [
      "В датафрейме 63 уникальных городов\n"
     ]
    }
   ],
   "source": [
    "n = df.city_name.unique().size\n",
    "#альтернативный вариант (выводит инормацию по всем нечисловым полям датафрейма) - df.describe(include=['object'])\n",
    "print(f'В датафрейме {n} уникальных городов')"
   ]
  },
  {
   "cell_type": "markdown",
   "id": "significant-scale",
   "metadata": {},
   "source": [
    "###### Определить кол-во ресторанов специализации \"Рыба\""
   ]
  },
  {
   "cell_type": "code",
   "execution_count": 5,
   "id": "eleven-array",
   "metadata": {},
   "outputs": [
    {
     "name": "stdout",
     "output_type": "stream",
     "text": [
      "Кол-во ресторанов специализации \"Рыба\": 30\n"
     ]
    }
   ],
   "source": [
    "n = df[df.specialisation == 'Рыба']\n",
    "print('Кол-во ресторанов специализации \"Рыба\":', n.shape[0])"
   ]
  },
  {
   "cell_type": "markdown",
   "id": "structured-agent",
   "metadata": {},
   "source": [
    "###### Получить в общем среднее кол-во успешных заказов (ответ округлить до целого)"
   ]
  },
  {
   "cell_type": "code",
   "execution_count": 6,
   "id": "likely-holly",
   "metadata": {},
   "outputs": [
    {
     "name": "stdout",
     "output_type": "stream",
     "text": [
      "Cреднее кол-во успешных заказов: 115.0\n"
     ]
    }
   ],
   "source": [
    "n = df.successful_orders.mean().round()\n",
    "#другой вариант - использовать функцию df.describe(), которая выводит статистики по числовым переменным\n",
    "print('Cреднее кол-во успешных заказов:', n)"
   ]
  },
  {
   "cell_type": "markdown",
   "id": "greek-controversy",
   "metadata": {},
   "source": [
    "###### Определить город с самым маленьким количеством ресторанов"
   ]
  },
  {
   "cell_type": "code",
   "execution_count": 7,
   "id": "natural-control",
   "metadata": {},
   "outputs": [
    {
     "name": "stdout",
     "output_type": "stream",
     "text": [
      "Город с самым маленьким количеством ресторанов: Ханты-Мансийск\n"
     ]
    }
   ],
   "source": [
    "#функция value_counts() выводит распределение по нечисловым характеристикам\n",
    "min_num = df.city_name.value_counts().tail(1).index[0]\n",
    "print('Город с самым маленьким количеством ресторанов:', min_num)"
   ]
  },
  {
   "cell_type": "markdown",
   "id": "dietary-republican",
   "metadata": {},
   "source": [
    "###### Сколько ресторанов имеют более 20 неуспешных заказов?"
   ]
  },
  {
   "cell_type": "code",
   "execution_count": 8,
   "id": "major-rebate",
   "metadata": {},
   "outputs": [
    {
     "name": "stdout",
     "output_type": "stream",
     "text": [
      "10 ресторанов имеют более 20 неуспешных заказов\n"
     ]
    }
   ],
   "source": [
    "n = df[df.fail_orders > 20].shape[0]\n",
    "print(n, 'ресторанов имеют более 20 неуспешных заказов')"
   ]
  },
  {
   "cell_type": "markdown",
   "id": "automatic-endorsement",
   "metadata": {},
   "source": [
    "###### Сколько ресторанов имеют более 20 неуспешных заказов и менее 500 успешных заказов?"
   ]
  },
  {
   "cell_type": "code",
   "execution_count": 9,
   "id": "miniature-valentine",
   "metadata": {},
   "outputs": [
    {
     "name": "stdout",
     "output_type": "stream",
     "text": [
      "5 ресторанов имеют более 20 неуспешных заказов и менее 500 успешных заказов\n"
     ]
    }
   ],
   "source": [
    "n = df[(df.fail_orders > 20) & (df.successful_orders > 500)].shape[0]\n",
    "print(n, 'ресторанов имеют более 20 неуспешных заказов и менее 500 успешных заказов')"
   ]
  },
  {
   "cell_type": "markdown",
   "id": "published-charles",
   "metadata": {},
   "source": [
    "###### Определить среднее кол-во успешных заказов в ресторанах со специализацией \"Выпечка\" (ответ округлить до целого)"
   ]
  },
  {
   "cell_type": "code",
   "execution_count": 10,
   "id": "other-terrace",
   "metadata": {},
   "outputs": [
    {
     "name": "stdout",
     "output_type": "stream",
     "text": [
      "Cреднее кол-во успешных заказов в ресторанах со специализацией \"Выпечка\": 13.0\n"
     ]
    }
   ],
   "source": [
    "frame = df[(df.successful_orders > 0) & (df.specialisation == 'Выпечка')]\n",
    "n = frame.successful_orders.values.mean().round()\n",
    "print('Cреднее кол-во успешных заказов в ресторанах со специализацией \"Выпечка\":', n)"
   ]
  },
  {
   "cell_type": "markdown",
   "id": "academic-brave",
   "metadata": {},
   "source": [
    "###### Какая специализация имеет самую высокую долю неуспешных заказов (все заказы по конкретному ресторану складываются из успешных, неуспешных заказов и перезаказов)? "
   ]
  },
  {
   "cell_type": "code",
   "execution_count": 11,
   "id": "turkish-chassis",
   "metadata": {},
   "outputs": [
    {
     "name": "stdout",
     "output_type": "stream",
     "text": [
      "Специализация с наибольшим процентом неудачных заказов: Вегетарианское меню\n"
     ]
    }
   ],
   "source": [
    "newdf = df.groupby(by='specialisation').sum()\n",
    "percent_of_fail = newdf.fail_orders/(newdf.successful_orders + newdf.fail_orders + newdf.reorders)\n",
    "specialisation = percent_of_fail.sort_values(ascending=False).head(1).index[0]\n",
    "print(\"Специализация с наибольшим процентом неудачных заказов:\",specialisation)\n"
   ]
  },
  {
   "cell_type": "markdown",
   "id": "activated-responsibility",
   "metadata": {},
   "source": [
    "###### Определить максимальное количество успешных заказов в ресторане для специализации \"Бургеры\""
   ]
  },
  {
   "cell_type": "code",
   "execution_count": 12,
   "id": "critical-initial",
   "metadata": {},
   "outputs": [
    {
     "name": "stdout",
     "output_type": "stream",
     "text": [
      "Максимальное количество успешных заказов в ресторане для специализации \"Бургеры\": 506.0\n"
     ]
    }
   ],
   "source": [
    "max_orders = df.groupby(by='specialisation').max().successful_orders['Бургеры']\n",
    "print('Максимальное количество успешных заказов в ресторане для специализации \"Бургеры\":',max_orders)"
   ]
  },
  {
   "cell_type": "markdown",
   "id": "partial-houston",
   "metadata": {},
   "source": [
    "###### Рассчитать среднее кол-во успешных заказов по специализации \"Суши\" в городе Белгород (ответ округлить до целого)"
   ]
  },
  {
   "cell_type": "code",
   "execution_count": 50,
   "id": "beneficial-better",
   "metadata": {},
   "outputs": [
    {
     "name": "stdout",
     "output_type": "stream",
     "text": [
      "Среднее кол-во успешных заказов по специализации \"Суши\" в городе Белгород: 328.0\n"
     ]
    }
   ],
   "source": [
    "#выбор строк с городом Белгород\n",
    "city = df[df.city_name == 'Белгород']\n",
    "#группировка по специализации и нахождение категории \"Суши\"\n",
    "success_sushi_num = city.groupby(by='specialisation').mean().successful_orders[[\"Суши\"]].values[0].round()\n",
    "print('Среднее кол-во успешных заказов по специализации \"Суши\" в городе Белгород:', success_sushi_num)"
   ]
  },
  {
   "cell_type": "code",
   "execution_count": 54,
   "id": "killing-soviet",
   "metadata": {},
   "outputs": [
    {
     "data": {
      "text/html": [
       "<div>\n",
       "<style scoped>\n",
       "    .dataframe tbody tr th:only-of-type {\n",
       "        vertical-align: middle;\n",
       "    }\n",
       "\n",
       "    .dataframe tbody tr th {\n",
       "        vertical-align: top;\n",
       "    }\n",
       "\n",
       "    .dataframe thead th {\n",
       "        text-align: right;\n",
       "    }\n",
       "</style>\n",
       "<table border=\"1\" class=\"dataframe\">\n",
       "  <thead>\n",
       "    <tr style=\"text-align: right;\">\n",
       "      <th></th>\n",
       "      <th>id</th>\n",
       "      <th>model_score</th>\n",
       "    </tr>\n",
       "  </thead>\n",
       "  <tbody>\n",
       "    <tr>\n",
       "      <th>0</th>\n",
       "      <td>1</td>\n",
       "      <td>0.622864</td>\n",
       "    </tr>\n",
       "    <tr>\n",
       "      <th>1</th>\n",
       "      <td>2</td>\n",
       "      <td>0.331360</td>\n",
       "    </tr>\n",
       "    <tr>\n",
       "      <th>2</th>\n",
       "      <td>3</td>\n",
       "      <td>0.450092</td>\n",
       "    </tr>\n",
       "    <tr>\n",
       "      <th>3</th>\n",
       "      <td>4</td>\n",
       "      <td>0.240392</td>\n",
       "    </tr>\n",
       "    <tr>\n",
       "      <th>4</th>\n",
       "      <td>5</td>\n",
       "      <td>0.297691</td>\n",
       "    </tr>\n",
       "    <tr>\n",
       "      <th>...</th>\n",
       "      <td>...</td>\n",
       "      <td>...</td>\n",
       "    </tr>\n",
       "    <tr>\n",
       "      <th>37717</th>\n",
       "      <td>37951</td>\n",
       "      <td>0.754494</td>\n",
       "    </tr>\n",
       "    <tr>\n",
       "      <th>37718</th>\n",
       "      <td>37952</td>\n",
       "      <td>0.662785</td>\n",
       "    </tr>\n",
       "    <tr>\n",
       "      <th>37719</th>\n",
       "      <td>37953</td>\n",
       "      <td>0.509935</td>\n",
       "    </tr>\n",
       "    <tr>\n",
       "      <th>37720</th>\n",
       "      <td>37954</td>\n",
       "      <td>0.417669</td>\n",
       "    </tr>\n",
       "    <tr>\n",
       "      <th>37721</th>\n",
       "      <td>37955</td>\n",
       "      <td>0.031183</td>\n",
       "    </tr>\n",
       "  </tbody>\n",
       "</table>\n",
       "<p>37722 rows × 2 columns</p>\n",
       "</div>"
      ],
      "text/plain": [
       "          id  model_score\n",
       "0          1     0.622864\n",
       "1          2     0.331360\n",
       "2          3     0.450092\n",
       "3          4     0.240392\n",
       "4          5     0.297691\n",
       "...      ...          ...\n",
       "37717  37951     0.754494\n",
       "37718  37952     0.662785\n",
       "37719  37953     0.509935\n",
       "37720  37954     0.417669\n",
       "37721  37955     0.031183\n",
       "\n",
       "[37722 rows x 2 columns]"
      ]
     },
     "execution_count": 54,
     "metadata": {},
     "output_type": "execute_result"
    }
   ],
   "source": [
    "#импорт нового датасета \"restaurant_scores.csv\", в котором хранится рейтинг ресторанов\n",
    "df2 = pd.read_csv('data/restaurant_scores.csv', sep = ',')"
   ]
  },
  {
   "cell_type": "markdown",
   "id": "victorian-condition",
   "metadata": {},
   "source": [
    "###### В исходную таблицу (df) добавить новый столбец \"model_score\" из таблицы \"restaurant_scores\", соединив таблицы по логически подходящему столбцу (id и vendor_id)"
   ]
  },
  {
   "cell_type": "code",
   "execution_count": 74,
   "id": "rapid-dress",
   "metadata": {},
   "outputs": [],
   "source": [
    "#соединяем поле vendor_id таблицы df с полем id таблицы df2\n",
    "extended_df = pd.merge(df, df2, left_on = 'vendor_id', right_on = 'id').drop('id', axis = 1)"
   ]
  },
  {
   "cell_type": "markdown",
   "id": "indonesian-gibson",
   "metadata": {},
   "source": [
    "###### Какой средний model_score для chain_id 27399 (ответ округлить до 2 знаков после запятой)?"
   ]
  },
  {
   "cell_type": "code",
   "execution_count": 87,
   "id": "configured-orleans",
   "metadata": {},
   "outputs": [
    {
     "name": "stdout",
     "output_type": "stream",
     "text": [
      "Средний model_score для chain_id 27399: 0.61\n"
     ]
    }
   ],
   "source": [
    "mean_chain_model_score = extended_df.model_score[extended_df.chain_id == 27399].mean().round(2)\n",
    "#альтернативный вариант через группировку по chain_id\n",
    "#mean_chain_model_score = extended_df.groupby(by='chain_id').mean().model_score[[27399]].values[0].round(2)\n",
    "print('Средний model_score для chain_id 27399:', mean_chain_model_score)"
   ]
  }
 ],
 "metadata": {
  "kernelspec": {
   "display_name": "Python 3",
   "language": "python",
   "name": "python3"
  },
  "language_info": {
   "codemirror_mode": {
    "name": "ipython",
    "version": 3
   },
   "file_extension": ".py",
   "mimetype": "text/x-python",
   "name": "python",
   "nbconvert_exporter": "python",
   "pygments_lexer": "ipython3",
   "version": "3.6.12"
  }
 },
 "nbformat": 4,
 "nbformat_minor": 5
}
